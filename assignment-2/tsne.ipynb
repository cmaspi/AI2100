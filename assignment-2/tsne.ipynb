{
 "cells": [
  {
   "cell_type": "code",
   "execution_count": 1,
   "metadata": {},
   "outputs": [],
   "source": [
    "import numpy as np\n",
    "import matplotlib.pyplot as plt"
   ]
  },
  {
   "cell_type": "code",
   "execution_count": 2,
   "metadata": {},
   "outputs": [],
   "source": [
    "h_dim = 10\n",
    "l_dim = 2\n",
    "# total number of points\n",
    "num = 20\n",
    "\n",
    "#generating the data\n",
    "x1 = np.random.multivariate_normal(np.ones(h_dim), 0.01*np.eye(h_dim), num//2)\n",
    "x2 = np.random.multivariate_normal(10*np.ones(h_dim), 0.01*np.eye(h_dim), num//2)\n",
    "# combining the two\n",
    "X = np.vstack((x1, x2))"
   ]
  },
  {
   "cell_type": "code",
   "execution_count": null,
   "metadata": {},
   "outputs": [],
   "source": [
    "class tsne:\n",
    "    def __init__(self)->None:\n",
    "        \"\"\"Initialisation\"\"\"\n",
    "        self.X = X\n",
    "        self.Y = None\n",
    "    \n",
    "    def kl_divergence( p,q) -> float:\n",
    "        p = p.flatten()\n",
    "        q = q.flatten()\n",
    "        kld = np.sum(p*np.log2(p/q))\n",
    "\n",
    "    def calc_pij(self) -> np.array:\n",
    "        (m,n) = self.X.shape\n",
    "        sigma = np.ones(m)\n",
    "\n"
   ]
  }
 ],
 "metadata": {
  "interpreter": {
   "hash": "916dbcbb3f70747c44a77c7bcd40155683ae19c65e1c03b4aa3499c5328201f1"
  },
  "kernelspec": {
   "display_name": "Python 3.8.10 64-bit",
   "language": "python",
   "name": "python3"
  },
  "language_info": {
   "codemirror_mode": {
    "name": "ipython",
    "version": 3
   },
   "file_extension": ".py",
   "mimetype": "text/x-python",
   "name": "python",
   "nbconvert_exporter": "python",
   "pygments_lexer": "ipython3",
   "version": "3.8.10"
  },
  "orig_nbformat": 4
 },
 "nbformat": 4,
 "nbformat_minor": 2
}
