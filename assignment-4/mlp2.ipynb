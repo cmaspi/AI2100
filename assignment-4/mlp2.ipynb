{
 "cells": [
  {
   "cell_type": "code",
   "execution_count": 2,
   "metadata": {},
   "outputs": [
    {
     "name": "stderr",
     "output_type": "stream",
     "text": [
      "/home/cmaspi/.local/lib/python3.8/site-packages/tqdm/auto.py:22: TqdmWarning: IProgress not found. Please update jupyter and ipywidgets. See https://ipywidgets.readthedocs.io/en/stable/user_install.html\n",
      "  from .autonotebook import tqdm as notebook_tqdm\n"
     ]
    }
   ],
   "source": [
    "# importing libraries\n",
    "import numpy as np\n",
    "import matplotlib.pyplot as plt\n",
    "import typing as ty\n",
    "import torchvision\n",
    "\n",
    "# dark background\n",
    "plt.style.use('dark_background')\n",
    "\n",
    "# activation functions\n",
    "def sigmoid(x : ty.Union[float, np.ndarray]) -> ty.Union[float, np.ndarray]:\n",
    "    \"\"\"sigmoid function\n",
    "    \n",
    "    returns 1/(1+exp(-x))\"\"\"\n",
    "    return 1/(1+np.exp(-x))\n",
    "\n",
    "def relu(x : ty.Union[float, np.ndarray]) -> ty.Union[float, np.ndarray]:\n",
    "    \"\"\"ReLU function\n",
    "    \n",
    "    returns max(0,x)\"\"\"\n",
    "    return np.maximum(0,x)\n",
    "\n",
    "def softmax(x : np.ndarray) -> np.ndarray:\n",
    "    \"\"\"Softmax function\n",
    "    \n",
    "    return [e^x_i/sum(e^x_i) for all i]\"\"\"\n",
    "    denom = np.sum(np.exp(x))\n",
    "    return np.exp(x)/denom\n",
    "\n",
    "def sigmoid_der(x : ty.Union[float, np.ndarray]) -> ty.Union[float, np.ndarray]:\n",
    "    \"\"\"derivative sigmoid function\"\"\"\n",
    "    return sigmoid(x)*(1-sigmoid(x))\n"
   ]
  },
  {
   "cell_type": "code",
   "execution_count": 3,
   "metadata": {},
   "outputs": [],
   "source": [
    "train_ = torchvision.datasets.MNIST(\"files/\")\n",
    "test_ = torchvision.datasets.MNIST(\"files/\", train = False)"
   ]
  },
  {
   "cell_type": "code",
   "execution_count": 4,
   "metadata": {},
   "outputs": [],
   "source": [
    "train_dict = { i:[] for i in range(10) }\n",
    "test_dict = { i:[] for i in range(10) }\n",
    "\n",
    "for image, label in train_:\n",
    "    train_dict[label].append(np.array(image))\n",
    "\n",
    "for image, label in test_:\n",
    "    test_dict[label].append(np.array(image))   "
   ]
  },
  {
   "cell_type": "code",
   "execution_count": 5,
   "metadata": {},
   "outputs": [],
   "source": [
    "train, label = [], []\n",
    "for x, y in train_:\n",
    "    train.append(np.array(x)/255)\n",
    "    label.append(y)\n",
    "train = np.array(train)\n",
    "labels = np.array(label)"
   ]
  },
  {
   "cell_type": "code",
   "execution_count": 6,
   "metadata": {},
   "outputs": [
    {
     "data": {
      "image/png": "[encoded data removed]",
      "text/plain": [
       "<Figure size 432x288 with 1 Axes>"
      ]
     },
     "metadata": {},
     "output_type": "display_data"
    }
   ],
   "source": [
    "plt.imshow(train[111], cmap = 'gray')\n",
    "plt.title(f'The image is of the number {label[111]}')\n",
    "plt.show()"
   ]
  },
  {
   "cell_type": "code",
   "execution_count": 7,
   "metadata": {},
   "outputs": [],
   "source": [
    "factor1 = np.sqrt(784/2)\n",
    "factor2 = np.sqrt(49/2)\n",
    "weights = np.array([ np.random.randn(49,784)/factor1, np.random.randn(10, 49)/factor2], dtype = object)\n",
    "biases = np.array([ np.zeros((49,1)), np.zeros((10,1))], dtype = object)"
   ]
  },
  {
   "cell_type": "code",
   "execution_count": 8,
   "metadata": {},
   "outputs": [],
   "source": [
    "def predict(x: np.ndarray, weights, biases):\n",
    "    \"\"\"\n",
    "    This function predicts the label of given image\n",
    "    \"\"\"\n",
    "    input = x.reshape(784,1)\n",
    "    activations = [relu, softmax]\n",
    "    for weight, bias, activation  in zip(weights, biases, activations):\n",
    "        input = weight @ input + bias\n",
    "        input = activation(input)\n",
    "    return input.argmax()\n",
    "\n",
    "def accuracy(x,y, weights, biases):\n",
    "    \"\"\"\n",
    "    This function returns accuracy\n",
    "    \"\"\"\n",
    "    predicted = np.ones(y.shape[0])\n",
    "    for i in range(len(x)):\n",
    "        temp = predict(x[i], weights, biases)\n",
    "        if temp != y[i]:\n",
    "            predicted[i] = 0\n",
    "    return np.mean(predicted)        \n",
    "        \n",
    "def shuffle(x,y):\n",
    "    \"\"\"\n",
    "    shuffles the input\"\"\"\n",
    "    l = len(x)\n",
    "    permutation = np.random.permutation(l)\n",
    "    x = x[permutation]\n",
    "    y = y[permutation]\n",
    "    return x,y\n"
   ]
  },
  {
   "cell_type": "code",
   "execution_count": 9,
   "metadata": {},
   "outputs": [],
   "source": [
    "def forwardpass(input : np.ndarray, weights: np.ndarray, biases : np.ndarray) -> list:\n",
    "    \"\"\"\n",
    "    This function accepts as input, n x 1 dimensional vector, and an array of weight matrix, bias matrix\n",
    "    further, it finds the hidden and final output and returns a list of intial, hidden, final layer\n",
    "    \"\"\"\n",
    "    activations = [relu, softmax]\n",
    "    x_layers = [input]\n",
    "    for weight, bias, activation  in zip(weights, biases, activations):\n",
    "        input = weight @ input + bias\n",
    "        input = activation(input)\n",
    "        x_layers.append(input)\n",
    "    return x_layers"
   ]
  },
  {
   "cell_type": "code",
   "execution_count": 10,
   "metadata": {},
   "outputs": [],
   "source": [
    "def backprop(_input_ : np.ndarray, weights : np.ndarray, biases :np.ndarray, _label_: np.ndarray):\n",
    "    \"\"\"\n",
    "    Returns\n",
    "    -------\n",
    "    gradients wrt each matrix, and bias. \n",
    "    (np.ndarray for all weight matrix), (np.ndarray for all bias vectors)\n",
    "\n",
    "    Input\n",
    "    -----\n",
    "    one image, weight matrix, biases, label for this image\n",
    "\n",
    "    What is being done\n",
    "    ------------------\n",
    "    input is an array of images of size (28 x 28), first each image is flattended\n",
    "    \n",
    "    next, each of the labels is converted to a one-hot vector\n",
    "    \"\"\"\n",
    "    # flattening the image to 784 x 1\n",
    "    input = _input_.reshape(784,1)\n",
    "    label = np.zeros((10,1))\n",
    "    label[_label_] = 1\n",
    "\n",
    "    # output at each layer\n",
    "    x_layers = forwardpass(input, weights, biases)\n",
    "    \n",
    "    delta1 = x_layers[2] - label\n",
    "    dw1 = delta1 @ x_layers[1].T\n",
    "    db1 = delta1\n",
    "    \n",
    "    temp = np.ones_like(x_layers[1])\n",
    "    temp[x_layers[1]<0]=0\n",
    "    delta0 = (weights[1].T @ delta1) * temp\n",
    "    \n",
    "    dw0 = delta0 @ x_layers[0].T\n",
    "    db0 = delta0\n",
    "\n",
    "    dw = np.array([dw0, dw1], dtype = object)\n",
    "    db = np.array([db0, db1], dtype = object)\n",
    "\n",
    "    return dw, db\n",
    "\n"
   ]
  },
  {
   "cell_type": "code",
   "execution_count": 11,
   "metadata": {},
   "outputs": [],
   "source": [
    "# i = backprop(train[0], weights, biases, labels[0])\n",
    "# i\n",
    "# i = forwardpass(train[0].reshape(784,1), weights, biases)\n",
    "# i"
   ]
  },
  {
   "cell_type": "code",
   "execution_count": 12,
   "metadata": {},
   "outputs": [],
   "source": [
    "def fit( input : np.ndarray, labels : np.ndarray, weights : np.ndarray, biases : np.ndarray, batch_size : int = 50, epochs: int = 10, lr: int = 5):\n",
    "    \n",
    "    size = input.shape[0] # number of example in training set\n",
    "    validation = input[int(size*0.8):]\n",
    "    validation_labels = labels[int(size*0.8):]\n",
    "\n",
    "    train = input[:int(size*0.8)]\n",
    "    labels = labels[:int(size*0.8)]\n",
    "    \n",
    "    batches = np.arange(0, train.shape[0], batch_size)\n",
    "\n",
    "    # print(f'Training accuracy : {accuracy(train, labels, weights, biases)}')\n",
    "    # print(f'Validation accuracy : {accuracy(validation, validation_labels, weights, biases)}')\n",
    "    \n",
    "    for epoch in range(epochs):\n",
    "        print(f'Epoch #{epoch +1 }:')\n",
    "\n",
    "        train, labels = shuffle(train, labels)\n",
    "\n",
    "        for idx in batches:\n",
    "            x = train[idx: idx+batch_size]\n",
    "            y = label[idx: idx+batch_size]\n",
    "\n",
    "            dw, db = None, None\n",
    "            for xx, yy in zip(x,y):\n",
    "                if dw is not None:\n",
    "                    temp1, temp2 = backprop(xx, weights, biases, yy)\n",
    "                    dw += temp1\n",
    "                    db += temp2\n",
    "                else:\n",
    "                    dw,db = backprop(xx, weights, biases, yy)\n",
    "            dw /= batch_size\n",
    "            db /= batch_size\n",
    "            dw = dw * lr\n",
    "            db = db * lr\n",
    "            \n",
    "            # updating the weights, biases\n",
    "            weights -= dw\n",
    "            biases -= db\n",
    "        print(f'Training accuracy : {accuracy(train, labels, weights, biases)}')\n",
    "        print(f'Validation accuracy : {accuracy(validation, validation_labels, weights, biases)}\\n')\n",
    "    return weights, biases\n",
    "    "
   ]
  },
  {
   "cell_type": "code",
   "execution_count": 13,
   "metadata": {},
   "outputs": [
    {
     "name": "stdout",
     "output_type": "stream",
     "text": [
      "Epoch #1:\n"
     ]
    },
    {
     "name": "stderr",
     "output_type": "stream",
     "text": [
      "/tmp/ipykernel_216913/3672902195.py:27: RuntimeWarning: overflow encountered in exp\n",
      "  denom = np.sum(np.exp(x))\n",
      "/tmp/ipykernel_216913/3672902195.py:28: RuntimeWarning: overflow encountered in exp\n",
      "  return np.exp(x)/denom\n",
      "/tmp/ipykernel_216913/3672902195.py:28: RuntimeWarning: invalid value encountered in true_divide\n",
      "  return np.exp(x)/denom\n"
     ]
    },
    {
     "name": "stdout",
     "output_type": "stream",
     "text": [
      "Training accuracy : 0.09475\n",
      "Validation accuracy : 0.1\n",
      "\n",
      "Epoch #2:\n",
      "Training accuracy : 0.09475\n",
      "Validation accuracy : 0.1\n",
      "\n",
      "Epoch #3:\n",
      "Training accuracy : 0.09475\n",
      "Validation accuracy : 0.1\n",
      "\n",
      "Epoch #4:\n",
      "Training accuracy : 0.09475\n",
      "Validation accuracy : 0.1\n",
      "\n",
      "Epoch #5:\n",
      "Training accuracy : 0.09475\n",
      "Validation accuracy : 0.1\n",
      "\n",
      "Epoch #6:\n",
      "Training accuracy : 0.09475\n",
      "Validation accuracy : 0.1\n",
      "\n",
      "Epoch #7:\n",
      "Training accuracy : 0.09475\n",
      "Validation accuracy : 0.1\n",
      "\n",
      "Epoch #8:\n"
     ]
    },
    {
     "ename": "KeyboardInterrupt",
     "evalue": "",
     "output_type": "error",
     "traceback": [
      "\u001b[0;31m---------------------------------------------------------------------------\u001b[0m",
      "\u001b[0;31mKeyboardInterrupt\u001b[0m                         Traceback (most recent call last)",
      "\u001b[0;32m/tmp/ipykernel_216913/323538019.py\u001b[0m in \u001b[0;36m<module>\u001b[0;34m\u001b[0m\n\u001b[0;32m----> 1\u001b[0;31m \u001b[0mweights\u001b[0m\u001b[0;34m,\u001b[0m \u001b[0mbiases\u001b[0m \u001b[0;34m=\u001b[0m \u001b[0mfit\u001b[0m\u001b[0;34m(\u001b[0m\u001b[0mtrain\u001b[0m\u001b[0;34m[\u001b[0m\u001b[0;34m:\u001b[0m\u001b[0;36m5000\u001b[0m\u001b[0;34m]\u001b[0m\u001b[0;34m,\u001b[0m \u001b[0mlabels\u001b[0m\u001b[0;34m[\u001b[0m\u001b[0;34m:\u001b[0m\u001b[0;36m5000\u001b[0m\u001b[0;34m]\u001b[0m\u001b[0;34m,\u001b[0m \u001b[0mweights\u001b[0m\u001b[0;34m,\u001b[0m \u001b[0mbiases\u001b[0m\u001b[0;34m)\u001b[0m\u001b[0;34m\u001b[0m\u001b[0;34m\u001b[0m\u001b[0m\n\u001b[0m",
      "\u001b[0;32m/tmp/ipykernel_216913/1021820162.py\u001b[0m in \u001b[0;36mfit\u001b[0;34m(input, labels, weights, biases, batch_size, epochs, lr)\u001b[0m\n\u001b[1;32m     25\u001b[0m             \u001b[0;32mfor\u001b[0m \u001b[0mxx\u001b[0m\u001b[0;34m,\u001b[0m \u001b[0myy\u001b[0m \u001b[0;32min\u001b[0m \u001b[0mzip\u001b[0m\u001b[0;34m(\u001b[0m\u001b[0mx\u001b[0m\u001b[0;34m,\u001b[0m\u001b[0my\u001b[0m\u001b[0;34m)\u001b[0m\u001b[0;34m:\u001b[0m\u001b[0;34m\u001b[0m\u001b[0;34m\u001b[0m\u001b[0m\n\u001b[1;32m     26\u001b[0m                 \u001b[0;32mif\u001b[0m \u001b[0mdw\u001b[0m \u001b[0;32mis\u001b[0m \u001b[0;32mnot\u001b[0m \u001b[0;32mNone\u001b[0m\u001b[0;34m:\u001b[0m\u001b[0;34m\u001b[0m\u001b[0;34m\u001b[0m\u001b[0m\n\u001b[0;32m---> 27\u001b[0;31m                     \u001b[0mtemp1\u001b[0m\u001b[0;34m,\u001b[0m \u001b[0mtemp2\u001b[0m \u001b[0;34m=\u001b[0m \u001b[0mbackprop\u001b[0m\u001b[0;34m(\u001b[0m\u001b[0mxx\u001b[0m\u001b[0;34m,\u001b[0m \u001b[0mweights\u001b[0m\u001b[0;34m,\u001b[0m \u001b[0mbiases\u001b[0m\u001b[0;34m,\u001b[0m \u001b[0myy\u001b[0m\u001b[0;34m)\u001b[0m\u001b[0;34m\u001b[0m\u001b[0;34m\u001b[0m\u001b[0m\n\u001b[0m\u001b[1;32m     28\u001b[0m                     \u001b[0mdw\u001b[0m \u001b[0;34m+=\u001b[0m \u001b[0mtemp1\u001b[0m\u001b[0;34m\u001b[0m\u001b[0;34m\u001b[0m\u001b[0m\n\u001b[1;32m     29\u001b[0m                     \u001b[0mdb\u001b[0m \u001b[0;34m+=\u001b[0m \u001b[0mtemp2\u001b[0m\u001b[0;34m\u001b[0m\u001b[0;34m\u001b[0m\u001b[0m\n",
      "\u001b[0;32m/tmp/ipykernel_216913/2444619130.py\u001b[0m in \u001b[0;36mbackprop\u001b[0;34m(_input_, weights, biases, _label_)\u001b[0m\n\u001b[1;32m     22\u001b[0m \u001b[0;34m\u001b[0m\u001b[0m\n\u001b[1;32m     23\u001b[0m     \u001b[0;31m# output at each layer\u001b[0m\u001b[0;34m\u001b[0m\u001b[0;34m\u001b[0m\u001b[0;34m\u001b[0m\u001b[0m\n\u001b[0;32m---> 24\u001b[0;31m     \u001b[0mx_layers\u001b[0m \u001b[0;34m=\u001b[0m \u001b[0mforwardpass\u001b[0m\u001b[0;34m(\u001b[0m\u001b[0minput\u001b[0m\u001b[0;34m,\u001b[0m \u001b[0mweights\u001b[0m\u001b[0;34m,\u001b[0m \u001b[0mbiases\u001b[0m\u001b[0;34m)\u001b[0m\u001b[0;34m\u001b[0m\u001b[0;34m\u001b[0m\u001b[0m\n\u001b[0m\u001b[1;32m     25\u001b[0m \u001b[0;34m\u001b[0m\u001b[0m\n\u001b[1;32m     26\u001b[0m     \u001b[0mdelta1\u001b[0m \u001b[0;34m=\u001b[0m \u001b[0mx_layers\u001b[0m\u001b[0;34m[\u001b[0m\u001b[0;36m2\u001b[0m\u001b[0;34m]\u001b[0m \u001b[0;34m-\u001b[0m \u001b[0mlabel\u001b[0m\u001b[0;34m\u001b[0m\u001b[0;34m\u001b[0m\u001b[0m\n",
      "\u001b[0;32m/tmp/ipykernel_216913/3227155118.py\u001b[0m in \u001b[0;36mforwardpass\u001b[0;34m(input, weights, biases)\u001b[0m\n\u001b[1;32m      7\u001b[0m     \u001b[0mx_layers\u001b[0m \u001b[0;34m=\u001b[0m \u001b[0;34m[\u001b[0m\u001b[0minput\u001b[0m\u001b[0;34m]\u001b[0m\u001b[0;34m\u001b[0m\u001b[0;34m\u001b[0m\u001b[0m\n\u001b[1;32m      8\u001b[0m     \u001b[0;32mfor\u001b[0m \u001b[0mweight\u001b[0m\u001b[0;34m,\u001b[0m \u001b[0mbias\u001b[0m\u001b[0;34m,\u001b[0m \u001b[0mactivation\u001b[0m  \u001b[0;32min\u001b[0m \u001b[0mzip\u001b[0m\u001b[0;34m(\u001b[0m\u001b[0mweights\u001b[0m\u001b[0;34m,\u001b[0m \u001b[0mbiases\u001b[0m\u001b[0;34m,\u001b[0m \u001b[0mactivations\u001b[0m\u001b[0;34m)\u001b[0m\u001b[0;34m:\u001b[0m\u001b[0;34m\u001b[0m\u001b[0;34m\u001b[0m\u001b[0m\n\u001b[0;32m----> 9\u001b[0;31m         \u001b[0minput\u001b[0m \u001b[0;34m=\u001b[0m \u001b[0mweight\u001b[0m \u001b[0;34m@\u001b[0m \u001b[0minput\u001b[0m \u001b[0;34m+\u001b[0m \u001b[0mbias\u001b[0m\u001b[0;34m\u001b[0m\u001b[0;34m\u001b[0m\u001b[0m\n\u001b[0m\u001b[1;32m     10\u001b[0m         \u001b[0minput\u001b[0m \u001b[0;34m=\u001b[0m \u001b[0mactivation\u001b[0m\u001b[0;34m(\u001b[0m\u001b[0minput\u001b[0m\u001b[0;34m)\u001b[0m\u001b[0;34m\u001b[0m\u001b[0;34m\u001b[0m\u001b[0m\n\u001b[1;32m     11\u001b[0m         \u001b[0mx_layers\u001b[0m\u001b[0;34m.\u001b[0m\u001b[0mappend\u001b[0m\u001b[0;34m(\u001b[0m\u001b[0minput\u001b[0m\u001b[0;34m)\u001b[0m\u001b[0;34m\u001b[0m\u001b[0;34m\u001b[0m\u001b[0m\n",
      "\u001b[0;31mKeyboardInterrupt\u001b[0m: "
     ]
    }
   ],
   "source": [
    "weights, biases = fit(train[:5000], labels[:5000], weights, biases)"
   ]
  },
  {
   "cell_type": "code",
   "execution_count": null,
   "metadata": {},
   "outputs": [
    {
     "name": "stdout",
     "output_type": "stream",
     "text": [
      "0 5\n",
      "0 0\n",
      "0 4\n",
      "0 1\n",
      "0 9\n",
      "0 2\n",
      "0 1\n",
      "0 3\n",
      "0 1\n",
      "0 4\n"
     ]
    }
   ],
   "source": [
    "for i,j in zip(train[:10], labels[:10]):\n",
    "    print(predict(i, weights, biases), j)"
   ]
  },
  {
   "cell_type": "code",
   "execution_count": null,
   "metadata": {},
   "outputs": [],
   "source": []
  }
 ],
 "metadata": {
  "interpreter": {
   "hash": "916dbcbb3f70747c44a77c7bcd40155683ae19c65e1c03b4aa3499c5328201f1"
  },
  "kernelspec": {
   "display_name": "Python 3.8.10 64-bit",
   "language": "python",
   "name": "python3"
  },
  "language_info": {
   "codemirror_mode": {
    "name": "ipython",
    "version": 3
   },
   "file_extension": ".py",
   "mimetype": "text/x-python",
   "name": "python",
   "nbconvert_exporter": "python",
   "pygments_lexer": "ipython3",
   "version": "3.8.10"
  },
  "orig_nbformat": 4
 },
 "nbformat": 4,
 "nbformat_minor": 2
}
