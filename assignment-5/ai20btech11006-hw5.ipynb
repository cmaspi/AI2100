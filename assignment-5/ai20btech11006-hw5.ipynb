{
 "cells": [
  {
   "cell_type": "code",
   "execution_count": 13,
   "metadata": {},
   "outputs": [],
   "source": [
    "# importing libraries\n",
    "import typing as ty\n",
    "import torchvision\n",
    "import matplotlib.pyplot as plt\n",
    "plt.style.use('dark_background')\n",
    "\n",
    "\n",
    "def dataloader():\n",
    "    train_ = torchvision.datasets.MNIST(\"files/\", download = True)\n",
    "\n",
    "    train_dict = { i:[] for i in range(10) }\n",
    "\n",
    "    for image, label in train_:\n",
    "        train_dict[label].append(np.array(image).reshape(28,28,1)/255)\n",
    "\n",
    "    # 1K images, 100 for each label\n",
    "    train = []\n",
    "    label = []\n",
    "    for i in range(10):\n",
    "        label.extend([i]*100)\n",
    "        train.extend(train_dict[i][100:200])\n",
    "    y_train = np.array(label)\n",
    "    X_train = np.array(train)\n",
    "\n",
    "    # validation set\n",
    "    train = []\n",
    "    label = []\n",
    "    for i in range(10):\n",
    "        label.extend([i]*10)\n",
    "        train.extend(train_dict[i][400:410])\n",
    "    y_val = np.array(label)\n",
    "    X_val = np.array(train)\n",
    "\n",
    "    return X_train, y_train, X_val, y_val\n",
    "    \n",
    "X_train, y_train, X_val, y_val = dataloader()"
   ]
  },
  {
   "cell_type": "code",
   "execution_count": 14,
   "metadata": {},
   "outputs": [],
   "source": [
    "import torch\n",
    "import torch.nn as nn\n",
    "import torch.nn.functional as ff\n",
    "import torch.optim as optim"
   ]
  },
  {
   "cell_type": "code",
   "execution_count": 15,
   "metadata": {},
   "outputs": [],
   "source": [
    "class Network(nn.Module):\n",
    "    def __init__(self):\n",
    "        super(Network, self).__init__()\n",
    "        self.conv1 = nn.Conv2d(1,4,5,padding = 2)\n",
    "        self.pool1 = nn.MaxPool2d(2,2)\n",
    "        self.conv2 = nn.Conv2d(4,4,5,padding = 2)\n",
    "        self.pool2 = nn.MaxPool2d(2,2)\n",
    "        self.mlp1 = nn.Linear( 196, 49)\n",
    "        self.mlp2 = nn.Linear( 49, 10)\n",
    "\n",
    "    def forward(self, x):\n",
    "        x = self.conv1(x)\n",
    "        x = ff.relu(x)\n",
    "        x = self.pool1(x)\n",
    "        x = self.conv2(x)\n",
    "        x = ff.relu(x)\n",
    "        x = self.pool2(x)\n",
    "        x = x.view(-1, 196)\n",
    "        x = self.mlp1(x)\n",
    "        x = ff.relu(x)\n",
    "        x = self.mlp2(x)\n",
    "        return x        \n",
    "network = Network()"
   ]
  },
  {
   "cell_type": "code",
   "execution_count": 16,
   "metadata": {},
   "outputs": [],
   "source": [
    "criterion = nn.CrossEntropyLoss()\n",
    "optimizer = optim.SGD(network.parameters(), lr=0.001)"
   ]
  },
  {
   "cell_type": "code",
   "execution_count": null,
   "metadata": {},
   "outputs": [],
   "source": [
    "for epoch in range(10):\n",
    "    running_loss = 0.0\n",
    "    for i, data in enumerate()"
   ]
  }
 ],
 "metadata": {
  "interpreter": {
   "hash": "916dbcbb3f70747c44a77c7bcd40155683ae19c65e1c03b4aa3499c5328201f1"
  },
  "kernelspec": {
   "display_name": "Python 3.10.4 64-bit",
   "language": "python",
   "name": "python3"
  },
  "language_info": {
   "codemirror_mode": {
    "name": "ipython",
    "version": 3
   },
   "file_extension": ".py",
   "mimetype": "text/x-python",
   "name": "python",
   "nbconvert_exporter": "python",
   "pygments_lexer": "ipython3",
   "version": "3.10.4"
  },
  "orig_nbformat": 4
 },
 "nbformat": 4,
 "nbformat_minor": 2
}
